{
 "cells": [
  {
   "cell_type": "code",
   "execution_count": 2,
   "id": "b8153a04",
   "metadata": {},
   "outputs": [],
   "source": [
    "import os\n",
    "os.environ[\"KMP_DUPLICATE_LIB_OK\"]=\"TRUE\"\n",
    "from tkinter import *\n",
    "import tkinter.messagebox\n",
    "import rdflib\n",
    "import tkinter\n",
    "tkinter._test()\n",
    "\n",
    "#from tkinter import Tk\n",
    "root = Tk()\n",
    "def generate(): \n",
    "    g = rdflib.Graph()\n",
    "    g.parse(\"C:/Users/qq264/Desktop/countries.rdf\") \n",
    "    qres = g.query(\"\"\"\n",
    "        PREFIX rdfs: <http://www.w3.org/2000/01/rdf-schema#>\n",
    "        PREFIX ns0: <http://learningsparql.com/ns/addressbook#>\n",
    "        SELECT ?t ?def \n",
    "        WHERE {?a dc:capital ?t; dc:capital ?def. }\"\"\")\n",
    "    global item_arr\n",
    "    item_arr = []\n",
    "    for row in qres: \n",
    "        items =\"where is  ' \"+str(row[0])+\"'\"\n",
    "        item_arr.append(items)\n",
    "    for item in range(len(item_arr)):\n",
    "        str_number = str(item+1)\n",
    "        the_item = str_number+\". \"+item_arr[item] \n",
    "        global label\n",
    "        label = Label(frame, text = the_item, width=\"200\",height=\"2\", bg=\"grey\", fg=\"white\",font=(\"Helvetica\", 11), justify=LEFT, anchor=W)\n",
    "        label.pack()\n",
    "    def openFile(): \n",
    "        root.fileName = filedialog.askopenfilename(filetypes=((\"RDF files\", \".rdf\"),(\"OWL files\", \".owl\"), (\"All files\", \"*.*\")))\n",
    "        global file_path\n",
    "        file_path = root.fileName\n",
    "        return file_path\n",
    "    def quit_program(): \n",
    "        exit()\n",
    "    def show_info(): \n",
    "        tkinter.messagebox.showinfo('Window title', 'This application generates low order thinking skills questions')\n",
    "    root.geometry(\"600x400+300+200\")\n",
    "    root.title(\"Automated test items generator\")\n",
    "    frame = Frame(root, bg=\"sky blue\", )\n",
    "    frame.pack()\n",
    "    menu = Menu(root)\n",
    "    root.config(menu=menu)\n",
    "    subMenu = Menu(menu)\n",
    "    menu.add_cascade(label=\"File\", menu=subMenu)\n",
    "    subMenu.add_command(label=\"Open file\", command=openFile)\n",
    "    subMenu.add_separator()\n",
    "    subMenu.add_command(label=\"Exit\", command=quit_program)\n",
    "    helpMenu = Menu(menu)\n",
    "    menu.add_cascade(label=\"Help\", menu=helpMenu)\n",
    "    helpMenu.add_command(label=\"Info\", command=show_info)\n",
    "    button1 = Button(frame, text=\"GENERATE\", fg=\"blue\", command=generate)\n",
    "    button1.pack(side=\"top\", fill='both', expand=True, padx=4, pady=4)\n",
    "    root.mainloop() "
   ]
  },
  {
   "cell_type": "code",
   "execution_count": null,
   "id": "35072737",
   "metadata": {},
   "outputs": [],
   "source": []
  }
 ],
 "metadata": {
  "kernelspec": {
   "display_name": "Python 3 (ipykernel)",
   "language": "python",
   "name": "python3"
  },
  "language_info": {
   "codemirror_mode": {
    "name": "ipython",
    "version": 3
   },
   "file_extension": ".py",
   "mimetype": "text/x-python",
   "name": "python",
   "nbconvert_exporter": "python",
   "pygments_lexer": "ipython3",
   "version": "3.9.13"
  }
 },
 "nbformat": 4,
 "nbformat_minor": 5
}
